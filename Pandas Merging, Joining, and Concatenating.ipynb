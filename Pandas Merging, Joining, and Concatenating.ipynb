{
 "metadata": {
  "language_info": {
   "codemirror_mode": {
    "name": "ipython",
    "version": 3
   },
   "file_extension": ".py",
   "mimetype": "text/x-python",
   "name": "python",
   "nbconvert_exporter": "python",
   "pygments_lexer": "ipython3",
   "version": "3.9.2"
  },
  "orig_nbformat": 2,
  "kernelspec": {
   "name": "python3",
   "display_name": "Python 3.9.2 64-bit (windows store)",
   "metadata": {
    "interpreter": {
     "hash": "b0f1e94f7b8dab6dcbaf8668d97b2de1660f8eb0c7f305b4109b0138f5684031"
    }
   }
  }
 },
 "nbformat": 4,
 "nbformat_minor": 2,
 "cells": [
  {
   "cell_type": "code",
   "execution_count": 5,
   "metadata": {},
   "outputs": [],
   "source": [
    "import numpy as np\n",
    "import pandas as pd"
   ]
  },
  {
   "cell_type": "code",
   "execution_count": 9,
   "metadata": {},
   "outputs": [],
   "source": [
    "data1 = {'Nama':['adam','michael','jacobs','Ujang','felicia','joseph'],\n",
    "'Kelas':[4,4,3,5,6,2],\n",
    "'Jenis Kelamin':['Pria','Pria','Pria','Pria','Wanita','Wanita']}"
   ]
  },
  {
   "cell_type": "code",
   "execution_count": 10,
   "metadata": {},
   "outputs": [],
   "source": [
    "DATA1 =pd.DataFrame(data1)"
   ]
  },
  {
   "cell_type": "code",
   "execution_count": 2,
   "metadata": {},
   "outputs": [],
   "source": [
    "data2 = {'Nama':['adam','michael','jacobs','bambang','felicia','wati'],\n",
    "'Nilai Tugas':[98,67,30,55,90,76],\n",
    "'Nilai Ujian':[50,70,99,86,49,66]}"
   ]
  },
  {
   "cell_type": "code",
   "execution_count": 6,
   "metadata": {},
   "outputs": [],
   "source": [
    "DATA2= pd.DataFrame(data2)"
   ]
  },
  {
   "cell_type": "code",
   "execution_count": 11,
   "metadata": {},
   "outputs": [
    {
     "output_type": "execute_result",
     "data": {
      "text/plain": [
       "      Nama  Kelas Jenis Kelamin  Nilai Tugas  Nilai Ujian\n",
       "0     adam      4          Pria           98           50\n",
       "1  michael      4          Pria           67           70\n",
       "2   jacobs      3          Pria           30           99\n",
       "3  felicia      6        Wanita           90           49"
      ],
      "text/html": "<div>\n<style scoped>\n    .dataframe tbody tr th:only-of-type {\n        vertical-align: middle;\n    }\n\n    .dataframe tbody tr th {\n        vertical-align: top;\n    }\n\n    .dataframe thead th {\n        text-align: right;\n    }\n</style>\n<table border=\"1\" class=\"dataframe\">\n  <thead>\n    <tr style=\"text-align: right;\">\n      <th></th>\n      <th>Nama</th>\n      <th>Kelas</th>\n      <th>Jenis Kelamin</th>\n      <th>Nilai Tugas</th>\n      <th>Nilai Ujian</th>\n    </tr>\n  </thead>\n  <tbody>\n    <tr>\n      <th>0</th>\n      <td>adam</td>\n      <td>4</td>\n      <td>Pria</td>\n      <td>98</td>\n      <td>50</td>\n    </tr>\n    <tr>\n      <th>1</th>\n      <td>michael</td>\n      <td>4</td>\n      <td>Pria</td>\n      <td>67</td>\n      <td>70</td>\n    </tr>\n    <tr>\n      <th>2</th>\n      <td>jacobs</td>\n      <td>3</td>\n      <td>Pria</td>\n      <td>30</td>\n      <td>99</td>\n    </tr>\n    <tr>\n      <th>3</th>\n      <td>felicia</td>\n      <td>6</td>\n      <td>Wanita</td>\n      <td>90</td>\n      <td>49</td>\n    </tr>\n  </tbody>\n</table>\n</div>"
     },
     "metadata": {},
     "execution_count": 11
    }
   ],
   "source": [
    "pd.merge(DATA1,DATA2,on='Nama')"
   ]
  },
  {
   "cell_type": "code",
   "execution_count": 20,
   "metadata": {},
   "outputs": [
    {
     "output_type": "execute_result",
     "data": {
      "text/plain": [
       "      Nama  Kelas Jenis Kelamin  Nilai Tugas  Nilai Ujian\n",
       "0     adam    4.0          Pria         98.0         50.0\n",
       "1  michael    4.0          Pria         67.0         70.0\n",
       "2   jacobs    3.0          Pria         30.0         99.0\n",
       "3    Ujang    5.0          Pria          NaN          NaN\n",
       "4  felicia    6.0        Wanita         90.0         49.0\n",
       "5   joseph    2.0        Wanita          NaN          NaN\n",
       "6  bambang    NaN           NaN         55.0         86.0\n",
       "7     wati    NaN           NaN         76.0         66.0"
      ],
      "text/html": "<div>\n<style scoped>\n    .dataframe tbody tr th:only-of-type {\n        vertical-align: middle;\n    }\n\n    .dataframe tbody tr th {\n        vertical-align: top;\n    }\n\n    .dataframe thead th {\n        text-align: right;\n    }\n</style>\n<table border=\"1\" class=\"dataframe\">\n  <thead>\n    <tr style=\"text-align: right;\">\n      <th></th>\n      <th>Nama</th>\n      <th>Kelas</th>\n      <th>Jenis Kelamin</th>\n      <th>Nilai Tugas</th>\n      <th>Nilai Ujian</th>\n    </tr>\n  </thead>\n  <tbody>\n    <tr>\n      <th>0</th>\n      <td>adam</td>\n      <td>4.0</td>\n      <td>Pria</td>\n      <td>98.0</td>\n      <td>50.0</td>\n    </tr>\n    <tr>\n      <th>1</th>\n      <td>michael</td>\n      <td>4.0</td>\n      <td>Pria</td>\n      <td>67.0</td>\n      <td>70.0</td>\n    </tr>\n    <tr>\n      <th>2</th>\n      <td>jacobs</td>\n      <td>3.0</td>\n      <td>Pria</td>\n      <td>30.0</td>\n      <td>99.0</td>\n    </tr>\n    <tr>\n      <th>3</th>\n      <td>Ujang</td>\n      <td>5.0</td>\n      <td>Pria</td>\n      <td>NaN</td>\n      <td>NaN</td>\n    </tr>\n    <tr>\n      <th>4</th>\n      <td>felicia</td>\n      <td>6.0</td>\n      <td>Wanita</td>\n      <td>90.0</td>\n      <td>49.0</td>\n    </tr>\n    <tr>\n      <th>5</th>\n      <td>joseph</td>\n      <td>2.0</td>\n      <td>Wanita</td>\n      <td>NaN</td>\n      <td>NaN</td>\n    </tr>\n    <tr>\n      <th>6</th>\n      <td>bambang</td>\n      <td>NaN</td>\n      <td>NaN</td>\n      <td>55.0</td>\n      <td>86.0</td>\n    </tr>\n    <tr>\n      <th>7</th>\n      <td>wati</td>\n      <td>NaN</td>\n      <td>NaN</td>\n      <td>76.0</td>\n      <td>66.0</td>\n    </tr>\n  </tbody>\n</table>\n</div>"
     },
     "metadata": {},
     "execution_count": 20
    }
   ],
   "source": [
    "pd.merge(DATA1,DATA2,how='outer',on='Nama')"
   ]
  },
  {
   "cell_type": "code",
   "execution_count": 21,
   "metadata": {},
   "outputs": [
    {
     "output_type": "execute_result",
     "data": {
      "text/plain": [
       "      Nama  Kelas Jenis Kelamin  Nilai Tugas  Nilai Ujian\n",
       "0     adam    4.0          Pria           98           50\n",
       "1  michael    4.0          Pria           67           70\n",
       "2   jacobs    3.0          Pria           30           99\n",
       "3  bambang    NaN           NaN           55           86\n",
       "4  felicia    6.0        Wanita           90           49\n",
       "5     wati    NaN           NaN           76           66"
      ],
      "text/html": "<div>\n<style scoped>\n    .dataframe tbody tr th:only-of-type {\n        vertical-align: middle;\n    }\n\n    .dataframe tbody tr th {\n        vertical-align: top;\n    }\n\n    .dataframe thead th {\n        text-align: right;\n    }\n</style>\n<table border=\"1\" class=\"dataframe\">\n  <thead>\n    <tr style=\"text-align: right;\">\n      <th></th>\n      <th>Nama</th>\n      <th>Kelas</th>\n      <th>Jenis Kelamin</th>\n      <th>Nilai Tugas</th>\n      <th>Nilai Ujian</th>\n    </tr>\n  </thead>\n  <tbody>\n    <tr>\n      <th>0</th>\n      <td>adam</td>\n      <td>4.0</td>\n      <td>Pria</td>\n      <td>98</td>\n      <td>50</td>\n    </tr>\n    <tr>\n      <th>1</th>\n      <td>michael</td>\n      <td>4.0</td>\n      <td>Pria</td>\n      <td>67</td>\n      <td>70</td>\n    </tr>\n    <tr>\n      <th>2</th>\n      <td>jacobs</td>\n      <td>3.0</td>\n      <td>Pria</td>\n      <td>30</td>\n      <td>99</td>\n    </tr>\n    <tr>\n      <th>3</th>\n      <td>bambang</td>\n      <td>NaN</td>\n      <td>NaN</td>\n      <td>55</td>\n      <td>86</td>\n    </tr>\n    <tr>\n      <th>4</th>\n      <td>felicia</td>\n      <td>6.0</td>\n      <td>Wanita</td>\n      <td>90</td>\n      <td>49</td>\n    </tr>\n    <tr>\n      <th>5</th>\n      <td>wati</td>\n      <td>NaN</td>\n      <td>NaN</td>\n      <td>76</td>\n      <td>66</td>\n    </tr>\n  </tbody>\n</table>\n</div>"
     },
     "metadata": {},
     "execution_count": 21
    }
   ],
   "source": [
    "pd.merge(DATA1,DATA2,how='right',on='Nama')"
   ]
  },
  {
   "cell_type": "code",
   "execution_count": 22,
   "metadata": {},
   "outputs": [
    {
     "output_type": "execute_result",
     "data": {
      "text/plain": [
       "      Nama  Kelas Jenis Kelamin  Nilai Tugas  Nilai Ujian\n",
       "0     adam      4          Pria         98.0         50.0\n",
       "1  michael      4          Pria         67.0         70.0\n",
       "2   jacobs      3          Pria         30.0         99.0\n",
       "3    Ujang      5          Pria          NaN          NaN\n",
       "4  felicia      6        Wanita         90.0         49.0\n",
       "5   joseph      2        Wanita          NaN          NaN"
      ],
      "text/html": "<div>\n<style scoped>\n    .dataframe tbody tr th:only-of-type {\n        vertical-align: middle;\n    }\n\n    .dataframe tbody tr th {\n        vertical-align: top;\n    }\n\n    .dataframe thead th {\n        text-align: right;\n    }\n</style>\n<table border=\"1\" class=\"dataframe\">\n  <thead>\n    <tr style=\"text-align: right;\">\n      <th></th>\n      <th>Nama</th>\n      <th>Kelas</th>\n      <th>Jenis Kelamin</th>\n      <th>Nilai Tugas</th>\n      <th>Nilai Ujian</th>\n    </tr>\n  </thead>\n  <tbody>\n    <tr>\n      <th>0</th>\n      <td>adam</td>\n      <td>4</td>\n      <td>Pria</td>\n      <td>98.0</td>\n      <td>50.0</td>\n    </tr>\n    <tr>\n      <th>1</th>\n      <td>michael</td>\n      <td>4</td>\n      <td>Pria</td>\n      <td>67.0</td>\n      <td>70.0</td>\n    </tr>\n    <tr>\n      <th>2</th>\n      <td>jacobs</td>\n      <td>3</td>\n      <td>Pria</td>\n      <td>30.0</td>\n      <td>99.0</td>\n    </tr>\n    <tr>\n      <th>3</th>\n      <td>Ujang</td>\n      <td>5</td>\n      <td>Pria</td>\n      <td>NaN</td>\n      <td>NaN</td>\n    </tr>\n    <tr>\n      <th>4</th>\n      <td>felicia</td>\n      <td>6</td>\n      <td>Wanita</td>\n      <td>90.0</td>\n      <td>49.0</td>\n    </tr>\n    <tr>\n      <th>5</th>\n      <td>joseph</td>\n      <td>2</td>\n      <td>Wanita</td>\n      <td>NaN</td>\n      <td>NaN</td>\n    </tr>\n  </tbody>\n</table>\n</div>"
     },
     "metadata": {},
     "execution_count": 22
    }
   ],
   "source": [
    "pd.merge(DATA1,DATA2,how='left',on='Nama')"
   ]
  },
  {
   "cell_type": "code",
   "execution_count": 23,
   "metadata": {},
   "outputs": [
    {
     "output_type": "execute_result",
     "data": {
      "text/plain": [
       "      Nama  Kelas Jenis Kelamin\n",
       "0     adam      4          Pria\n",
       "1  michael      4          Pria\n",
       "2   jacobs      3          Pria\n",
       "3    Ujang      5          Pria\n",
       "4  felicia      6        Wanita\n",
       "5   joseph      2        Wanita"
      ],
      "text/html": "<div>\n<style scoped>\n    .dataframe tbody tr th:only-of-type {\n        vertical-align: middle;\n    }\n\n    .dataframe tbody tr th {\n        vertical-align: top;\n    }\n\n    .dataframe thead th {\n        text-align: right;\n    }\n</style>\n<table border=\"1\" class=\"dataframe\">\n  <thead>\n    <tr style=\"text-align: right;\">\n      <th></th>\n      <th>Nama</th>\n      <th>Kelas</th>\n      <th>Jenis Kelamin</th>\n    </tr>\n  </thead>\n  <tbody>\n    <tr>\n      <th>0</th>\n      <td>adam</td>\n      <td>4</td>\n      <td>Pria</td>\n    </tr>\n    <tr>\n      <th>1</th>\n      <td>michael</td>\n      <td>4</td>\n      <td>Pria</td>\n    </tr>\n    <tr>\n      <th>2</th>\n      <td>jacobs</td>\n      <td>3</td>\n      <td>Pria</td>\n    </tr>\n    <tr>\n      <th>3</th>\n      <td>Ujang</td>\n      <td>5</td>\n      <td>Pria</td>\n    </tr>\n    <tr>\n      <th>4</th>\n      <td>felicia</td>\n      <td>6</td>\n      <td>Wanita</td>\n    </tr>\n    <tr>\n      <th>5</th>\n      <td>joseph</td>\n      <td>2</td>\n      <td>Wanita</td>\n    </tr>\n  </tbody>\n</table>\n</div>"
     },
     "metadata": {},
     "execution_count": 23
    }
   ],
   "source": [
    "DATA1"
   ]
  },
  {
   "cell_type": "code",
   "execution_count": 18,
   "metadata": {},
   "outputs": [
    {
     "output_type": "execute_result",
     "data": {
      "text/plain": [
       "      Nama  Nilai Tugas  Nilai Ujian\n",
       "0     adam           98           50\n",
       "1  michael           67           70\n",
       "2   jacobs           30           99\n",
       "3  bambang           55           86\n",
       "4  felicia           90           49\n",
       "5     wati           76           66"
      ],
      "text/html": "<div>\n<style scoped>\n    .dataframe tbody tr th:only-of-type {\n        vertical-align: middle;\n    }\n\n    .dataframe tbody tr th {\n        vertical-align: top;\n    }\n\n    .dataframe thead th {\n        text-align: right;\n    }\n</style>\n<table border=\"1\" class=\"dataframe\">\n  <thead>\n    <tr style=\"text-align: right;\">\n      <th></th>\n      <th>Nama</th>\n      <th>Nilai Tugas</th>\n      <th>Nilai Ujian</th>\n    </tr>\n  </thead>\n  <tbody>\n    <tr>\n      <th>0</th>\n      <td>adam</td>\n      <td>98</td>\n      <td>50</td>\n    </tr>\n    <tr>\n      <th>1</th>\n      <td>michael</td>\n      <td>67</td>\n      <td>70</td>\n    </tr>\n    <tr>\n      <th>2</th>\n      <td>jacobs</td>\n      <td>30</td>\n      <td>99</td>\n    </tr>\n    <tr>\n      <th>3</th>\n      <td>bambang</td>\n      <td>55</td>\n      <td>86</td>\n    </tr>\n    <tr>\n      <th>4</th>\n      <td>felicia</td>\n      <td>90</td>\n      <td>49</td>\n    </tr>\n    <tr>\n      <th>5</th>\n      <td>wati</td>\n      <td>76</td>\n      <td>66</td>\n    </tr>\n  </tbody>\n</table>\n</div>"
     },
     "metadata": {},
     "execution_count": 18
    }
   ],
   "source": [
    "DATA2"
   ]
  },
  {
   "cell_type": "code",
   "execution_count": 31,
   "metadata": {},
   "outputs": [],
   "source": [
    "DATA1A= pd.DataFrame(DATA1['Jenis Kelamin'])"
   ]
  },
  {
   "cell_type": "code",
   "execution_count": 32,
   "metadata": {},
   "outputs": [],
   "source": [
    "DATA2A = pd.DataFrame(DATA2['Nilai Ujian'])"
   ]
  },
  {
   "cell_type": "code",
   "execution_count": 34,
   "metadata": {},
   "outputs": [
    {
     "output_type": "execute_result",
     "data": {
      "text/plain": [
       "  Jenis Kelamin  Nilai Ujian\n",
       "0          Pria           50\n",
       "1          Pria           70\n",
       "2          Pria           99\n",
       "3          Pria           86\n",
       "4        Wanita           49\n",
       "5        Wanita           66"
      ],
      "text/html": "<div>\n<style scoped>\n    .dataframe tbody tr th:only-of-type {\n        vertical-align: middle;\n    }\n\n    .dataframe tbody tr th {\n        vertical-align: top;\n    }\n\n    .dataframe thead th {\n        text-align: right;\n    }\n</style>\n<table border=\"1\" class=\"dataframe\">\n  <thead>\n    <tr style=\"text-align: right;\">\n      <th></th>\n      <th>Jenis Kelamin</th>\n      <th>Nilai Ujian</th>\n    </tr>\n  </thead>\n  <tbody>\n    <tr>\n      <th>0</th>\n      <td>Pria</td>\n      <td>50</td>\n    </tr>\n    <tr>\n      <th>1</th>\n      <td>Pria</td>\n      <td>70</td>\n    </tr>\n    <tr>\n      <th>2</th>\n      <td>Pria</td>\n      <td>99</td>\n    </tr>\n    <tr>\n      <th>3</th>\n      <td>Pria</td>\n      <td>86</td>\n    </tr>\n    <tr>\n      <th>4</th>\n      <td>Wanita</td>\n      <td>49</td>\n    </tr>\n    <tr>\n      <th>5</th>\n      <td>Wanita</td>\n      <td>66</td>\n    </tr>\n  </tbody>\n</table>\n</div>"
     },
     "metadata": {},
     "execution_count": 34
    }
   ],
   "source": [
    "DATA1A.join(DATA2A)"
   ]
  },
  {
   "cell_type": "code",
   "execution_count": 36,
   "metadata": {},
   "outputs": [],
   "source": [
    "data3 = {'Nama':['A','B','C','D','E','F'],\n",
    "'Kelas':[1,2,1,5,6,6],\n",
    "'Jenis Kelamin':['Pria','Wanita','Pria','Wanita','Wanita','Wanita'],\n",
    "'Nilai Tugas':[60,60,30,55,50,76],\n",
    "'Nilai Ujian':[56,78,67,54,57,57]}"
   ]
  },
  {
   "cell_type": "code",
   "execution_count": 37,
   "metadata": {},
   "outputs": [],
   "source": [
    "DATA3 = pd.DataFrame(data3)"
   ]
  },
  {
   "cell_type": "code",
   "execution_count": 38,
   "metadata": {},
   "outputs": [
    {
     "output_type": "execute_result",
     "data": {
      "text/plain": [
       "      Nama  Kelas Jenis Kelamin  Nilai Tugas  Nilai Ujian\n",
       "0     adam    4.0          Pria          NaN          NaN\n",
       "1  michael    4.0          Pria          NaN          NaN\n",
       "2   jacobs    3.0          Pria          NaN          NaN\n",
       "3    Ujang    5.0          Pria          NaN          NaN\n",
       "4  felicia    6.0        Wanita          NaN          NaN\n",
       "5   joseph    2.0        Wanita          NaN          NaN\n",
       "0     adam    NaN           NaN         98.0         50.0\n",
       "1  michael    NaN           NaN         67.0         70.0\n",
       "2   jacobs    NaN           NaN         30.0         99.0\n",
       "3  bambang    NaN           NaN         55.0         86.0\n",
       "4  felicia    NaN           NaN         90.0         49.0\n",
       "5     wati    NaN           NaN         76.0         66.0\n",
       "0        A    1.0          Pria         60.0         56.0\n",
       "1        B    2.0        Wanita         60.0         78.0\n",
       "2        C    1.0          Pria         30.0         67.0\n",
       "3        D    5.0        Wanita         55.0         54.0\n",
       "4        E    6.0        Wanita         50.0         57.0\n",
       "5        F    6.0        Wanita         76.0         57.0"
      ],
      "text/html": "<div>\n<style scoped>\n    .dataframe tbody tr th:only-of-type {\n        vertical-align: middle;\n    }\n\n    .dataframe tbody tr th {\n        vertical-align: top;\n    }\n\n    .dataframe thead th {\n        text-align: right;\n    }\n</style>\n<table border=\"1\" class=\"dataframe\">\n  <thead>\n    <tr style=\"text-align: right;\">\n      <th></th>\n      <th>Nama</th>\n      <th>Kelas</th>\n      <th>Jenis Kelamin</th>\n      <th>Nilai Tugas</th>\n      <th>Nilai Ujian</th>\n    </tr>\n  </thead>\n  <tbody>\n    <tr>\n      <th>0</th>\n      <td>adam</td>\n      <td>4.0</td>\n      <td>Pria</td>\n      <td>NaN</td>\n      <td>NaN</td>\n    </tr>\n    <tr>\n      <th>1</th>\n      <td>michael</td>\n      <td>4.0</td>\n      <td>Pria</td>\n      <td>NaN</td>\n      <td>NaN</td>\n    </tr>\n    <tr>\n      <th>2</th>\n      <td>jacobs</td>\n      <td>3.0</td>\n      <td>Pria</td>\n      <td>NaN</td>\n      <td>NaN</td>\n    </tr>\n    <tr>\n      <th>3</th>\n      <td>Ujang</td>\n      <td>5.0</td>\n      <td>Pria</td>\n      <td>NaN</td>\n      <td>NaN</td>\n    </tr>\n    <tr>\n      <th>4</th>\n      <td>felicia</td>\n      <td>6.0</td>\n      <td>Wanita</td>\n      <td>NaN</td>\n      <td>NaN</td>\n    </tr>\n    <tr>\n      <th>5</th>\n      <td>joseph</td>\n      <td>2.0</td>\n      <td>Wanita</td>\n      <td>NaN</td>\n      <td>NaN</td>\n    </tr>\n    <tr>\n      <th>0</th>\n      <td>adam</td>\n      <td>NaN</td>\n      <td>NaN</td>\n      <td>98.0</td>\n      <td>50.0</td>\n    </tr>\n    <tr>\n      <th>1</th>\n      <td>michael</td>\n      <td>NaN</td>\n      <td>NaN</td>\n      <td>67.0</td>\n      <td>70.0</td>\n    </tr>\n    <tr>\n      <th>2</th>\n      <td>jacobs</td>\n      <td>NaN</td>\n      <td>NaN</td>\n      <td>30.0</td>\n      <td>99.0</td>\n    </tr>\n    <tr>\n      <th>3</th>\n      <td>bambang</td>\n      <td>NaN</td>\n      <td>NaN</td>\n      <td>55.0</td>\n      <td>86.0</td>\n    </tr>\n    <tr>\n      <th>4</th>\n      <td>felicia</td>\n      <td>NaN</td>\n      <td>NaN</td>\n      <td>90.0</td>\n      <td>49.0</td>\n    </tr>\n    <tr>\n      <th>5</th>\n      <td>wati</td>\n      <td>NaN</td>\n      <td>NaN</td>\n      <td>76.0</td>\n      <td>66.0</td>\n    </tr>\n    <tr>\n      <th>0</th>\n      <td>A</td>\n      <td>1.0</td>\n      <td>Pria</td>\n      <td>60.0</td>\n      <td>56.0</td>\n    </tr>\n    <tr>\n      <th>1</th>\n      <td>B</td>\n      <td>2.0</td>\n      <td>Wanita</td>\n      <td>60.0</td>\n      <td>78.0</td>\n    </tr>\n    <tr>\n      <th>2</th>\n      <td>C</td>\n      <td>1.0</td>\n      <td>Pria</td>\n      <td>30.0</td>\n      <td>67.0</td>\n    </tr>\n    <tr>\n      <th>3</th>\n      <td>D</td>\n      <td>5.0</td>\n      <td>Wanita</td>\n      <td>55.0</td>\n      <td>54.0</td>\n    </tr>\n    <tr>\n      <th>4</th>\n      <td>E</td>\n      <td>6.0</td>\n      <td>Wanita</td>\n      <td>50.0</td>\n      <td>57.0</td>\n    </tr>\n    <tr>\n      <th>5</th>\n      <td>F</td>\n      <td>6.0</td>\n      <td>Wanita</td>\n      <td>76.0</td>\n      <td>57.0</td>\n    </tr>\n  </tbody>\n</table>\n</div>"
     },
     "metadata": {},
     "execution_count": 38
    }
   ],
   "source": [
    "pd.concat([DATA1,DATA2,DATA3])"
   ]
  },
  {
   "cell_type": "code",
   "execution_count": 39,
   "metadata": {},
   "outputs": [
    {
     "output_type": "execute_result",
     "data": {
      "text/plain": [
       "      Nama  Kelas Jenis Kelamin     Nama  Nilai Tugas  Nilai Ujian Nama  \\\n",
       "0     adam      4          Pria     adam           98           50    A   \n",
       "1  michael      4          Pria  michael           67           70    B   \n",
       "2   jacobs      3          Pria   jacobs           30           99    C   \n",
       "3    Ujang      5          Pria  bambang           55           86    D   \n",
       "4  felicia      6        Wanita  felicia           90           49    E   \n",
       "5   joseph      2        Wanita     wati           76           66    F   \n",
       "\n",
       "   Kelas Jenis Kelamin  Nilai Tugas  Nilai Ujian  \n",
       "0      1          Pria           60           56  \n",
       "1      2        Wanita           60           78  \n",
       "2      1          Pria           30           67  \n",
       "3      5        Wanita           55           54  \n",
       "4      6        Wanita           50           57  \n",
       "5      6        Wanita           76           57  "
      ],
      "text/html": "<div>\n<style scoped>\n    .dataframe tbody tr th:only-of-type {\n        vertical-align: middle;\n    }\n\n    .dataframe tbody tr th {\n        vertical-align: top;\n    }\n\n    .dataframe thead th {\n        text-align: right;\n    }\n</style>\n<table border=\"1\" class=\"dataframe\">\n  <thead>\n    <tr style=\"text-align: right;\">\n      <th></th>\n      <th>Nama</th>\n      <th>Kelas</th>\n      <th>Jenis Kelamin</th>\n      <th>Nama</th>\n      <th>Nilai Tugas</th>\n      <th>Nilai Ujian</th>\n      <th>Nama</th>\n      <th>Kelas</th>\n      <th>Jenis Kelamin</th>\n      <th>Nilai Tugas</th>\n      <th>Nilai Ujian</th>\n    </tr>\n  </thead>\n  <tbody>\n    <tr>\n      <th>0</th>\n      <td>adam</td>\n      <td>4</td>\n      <td>Pria</td>\n      <td>adam</td>\n      <td>98</td>\n      <td>50</td>\n      <td>A</td>\n      <td>1</td>\n      <td>Pria</td>\n      <td>60</td>\n      <td>56</td>\n    </tr>\n    <tr>\n      <th>1</th>\n      <td>michael</td>\n      <td>4</td>\n      <td>Pria</td>\n      <td>michael</td>\n      <td>67</td>\n      <td>70</td>\n      <td>B</td>\n      <td>2</td>\n      <td>Wanita</td>\n      <td>60</td>\n      <td>78</td>\n    </tr>\n    <tr>\n      <th>2</th>\n      <td>jacobs</td>\n      <td>3</td>\n      <td>Pria</td>\n      <td>jacobs</td>\n      <td>30</td>\n      <td>99</td>\n      <td>C</td>\n      <td>1</td>\n      <td>Pria</td>\n      <td>30</td>\n      <td>67</td>\n    </tr>\n    <tr>\n      <th>3</th>\n      <td>Ujang</td>\n      <td>5</td>\n      <td>Pria</td>\n      <td>bambang</td>\n      <td>55</td>\n      <td>86</td>\n      <td>D</td>\n      <td>5</td>\n      <td>Wanita</td>\n      <td>55</td>\n      <td>54</td>\n    </tr>\n    <tr>\n      <th>4</th>\n      <td>felicia</td>\n      <td>6</td>\n      <td>Wanita</td>\n      <td>felicia</td>\n      <td>90</td>\n      <td>49</td>\n      <td>E</td>\n      <td>6</td>\n      <td>Wanita</td>\n      <td>50</td>\n      <td>57</td>\n    </tr>\n    <tr>\n      <th>5</th>\n      <td>joseph</td>\n      <td>2</td>\n      <td>Wanita</td>\n      <td>wati</td>\n      <td>76</td>\n      <td>66</td>\n      <td>F</td>\n      <td>6</td>\n      <td>Wanita</td>\n      <td>76</td>\n      <td>57</td>\n    </tr>\n  </tbody>\n</table>\n</div>"
     },
     "metadata": {},
     "execution_count": 39
    }
   ],
   "source": [
    "pd.concat([DATA1,DATA2,DATA3],axis=1)"
   ]
  },
  {
   "cell_type": "code",
   "execution_count": null,
   "metadata": {},
   "outputs": [],
   "source": []
  }
 ]
}